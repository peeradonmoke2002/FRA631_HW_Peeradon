{
 "cells": [
  {
   "cell_type": "markdown",
   "metadata": {},
   "source": [
    "## Import libraries"
   ]
  },
  {
   "cell_type": "code",
   "execution_count": 50,
   "metadata": {},
   "outputs": [],
   "source": [
    "import time\n",
    "import sys\n",
    "import pathlib\n",
    "import os\n",
    "import numpy as np\n",
    "import cv2 as cv\n",
    "from spatialmath import SE3\n",
    "from scipy.spatial.transform import Rotation as R, Slerp\n",
    "import matplotlib.pyplot as plt\n",
    "from roboticstoolbox import DHRobot, RevoluteDH\n",
    "from spatialmath.base import trotx, troty, trotz\n",
    "import pathlib\n",
    "import roboticstoolbox as rtb\n",
    "import spatialmath.base.symbolic as sym\n",
    "\n",
    "notebook_path = os.getcwd()\n",
    "sys.path.append(str(pathlib.Path(notebook_path).parent.parent))\n",
    "from classrobot.robot_movement import RobotControl\n",
    "\n"
   ]
  },
  {
   "cell_type": "markdown",
   "metadata": {},
   "source": [
    "# Create DH parameters of UR5e robot\n",
    "DH parameters ช่วยในการกำหนดลักษณะการเคลื่อนที่ของหุ่นยนต์ โดยใช้ค่าต่างๆ เช่น ความยาวของแขน, มุมการหมุน, และระยะห่างระหว่างข้อต่อ เพื่อสร้างโมเดลการเคลื่อนที่ของหุ่นยนต์ เพื่อหา forward kinematics ของหุ่นยนต์ UR5e ดังรูปด้านล่าง\n",
    "\n",
    "<p align=\"center\">\n",
    "    <img src=\"./images/dh_ur.png\" alt=\"UR_DH\" width=\"400\" />\n",
    "</p>\n",
    "\n",
    "UR5e Table of DH parameters:\n",
    "| Joint   | θ [rad] | a [m]    | d [m]    | α [rad] | Mass [kg] | Center of Mass [m]           | Inertia Matrix                |\n",
    "|---------|---------|----------|----------|---------|-----------|------------------------------|-------------------------------|\n",
    "| Joint 1 | 0       | 0        | 0.1625   | π/2     | 3.761     | [0, -0.02561, 0.00193]       | 0                             |\n",
    "| Joint 2 | 0       | -0.425   | 0        | 0       | 8.058     | [0.2125, 0, 0.11336]         | 0                             |\n",
    "| Joint 3 | 0       | -0.3922  | 0        | 0       | 2.846     | [0.15, 0.0, 0.0265]          | 0                             |\n",
    "| Joint 4 | 0       | 0        | 0.1333   | π/2     | 1.37      | [0, -0.0018, 0.01634]        | 0                             |\n",
    "| Joint 5 | 0       | 0        | 0.0997   | -π/2    | 1.3       | [0, 0.0018, 0.01634]         | 0                             |\n",
    "| Joint 6 | 0       | 0        | 0.0996   | 0       | 0.365     | [0, 0, -0.001159]            | [0, 0, 0, 0, 0, 0, 0, 0, 0.0002] |\n",
    "\n",
    "Reference: [UR_DH_TABLE](https://www.universal-robots.com/articles/ur/application-installation/dh-parameters-for-calculations-of-kinematics-and-dynamics/ )"
   ]
  },
  {
   "cell_type": "markdown",
   "metadata": {},
   "source": [
    "จาก DH table ของหุ่นยนต์ สามารถคำนวณหาค่า forward kinematics ได้ดังนี้:"
   ]
  },
  {
   "cell_type": "code",
   "execution_count": 51,
   "metadata": {},
   "outputs": [],
   "source": [
    "class UR5eDH(DHRobot):\n",
    "    def __init__(self, symbolic=False):\n",
    "\n",
    "        if symbolic:\n",
    "            import spatialmath.base.symbolic as sym\n",
    "\n",
    "            zero = sym.zero()\n",
    "            pi = sym.pi()\n",
    "        else:\n",
    "            from math import pi\n",
    "\n",
    "            zero = 0.0\n",
    "\n",
    "        deg = pi / 180\n",
    "\n",
    "        # robot length values (metres)\n",
    "        a = [0, -0.42500, -0.3922, 0, 0, 0]\n",
    "        d = [0.1625, 0, 0, 0.1333, 0.0997, 0.0996]\n",
    "        alpha = [pi / 2, zero, zero, pi / 2, -pi / 2, zero]\n",
    "\n",
    "        # mass and center of mass\n",
    "        mass = [3.7000, 8.058, 2.846, 1.37, 1.3, 0.365]\n",
    "        center_of_mass = [\n",
    "            [0, -0.02561, 0.00193],\n",
    "            [0.2125, 0, 0.11336],\n",
    "            [0.15, 0, 0.0265],\n",
    "            [0, -0.0018, 0.01634],\n",
    "            [0, 0.0018, 0.01634],\n",
    "            [0, 0, -0.001159],\n",
    "        ]\n",
    "        # inertia tensor\n",
    "        inertia = [\n",
    "            np.zeros((3, 3)),  # Link 1\n",
    "            np.zeros((3, 3)),  # Link 2\n",
    "            np.zeros((3, 3)),  # Link 3\n",
    "            np.zeros((3, 3)),  # Link 4\n",
    "            np.zeros((3, 3)),  # Link 5\n",
    "            np.array([[0, 0, 0], [0, 0, 0], [0, 0, 0.0001]]),  # Link 6 (non-zero Izz)\n",
    "        ]\n",
    "\n",
    "        links = []\n",
    "        for j in range(6):\n",
    "            link = RevoluteDH(\n",
    "                d=d[j], a=a[j], alpha=alpha[j], m=mass[j], r=center_of_mass[j], G=1, I=inertia[j]\n",
    "            )\n",
    "            links.append(link)\n",
    "\n",
    "        super().__init__(\n",
    "            links,\n",
    "            name=\"UR5e\",\n",
    "            manufacturer=\"Universal Robotics\",\n",
    "            keywords=(\"dynamics\", \"symbolic\"),\n",
    "            symbolic=symbolic,\n",
    "        )\n",
    "\n",
    "        # Named configurations\n",
    "        self.q = np.zeros(6)\n",
    "        # กำหนดค่าตำแหน่งเริ่มต้นของหุ่นยนต์\n",
    "        self.q_HOME =[0.7144890427589417, -1.9380299053587855, -2.052056074142456, \n",
    "                      -2.271982332269186, -0.9003184477435511, 2.3653526306152344]\n",
    "        self.addconfiguration(\"q_HOME\", self.q_HOME)\n"
   ]
  },
  {
   "cell_type": "code",
   "execution_count": 52,
   "metadata": {},
   "outputs": [
    {
     "name": "stdout",
     "output_type": "stream",
     "text": [
      "DHRobot: UR5e (by Universal Robotics), 6 joints (RRRRRR), dynamics, standard DH parameters\n",
      "┌─────┬────────┬─────────┬────────┐\n",
      "│ θⱼ  │   dⱼ   │   aⱼ    │   ⍺ⱼ   │\n",
      "├─────┼────────┼─────────┼────────┤\n",
      "│  q1 │ 0.1625 │       0 │  90.0° │\n",
      "│  q2 │      0 │  -0.425 │   0.0° │\n",
      "│  q3 │      0 │ -0.3922 │   0.0° │\n",
      "│  q4 │ 0.1333 │       0 │  90.0° │\n",
      "│  q5 │ 0.0997 │       0 │ -90.0° │\n",
      "│  q6 │ 0.0996 │       0 │   0.0° │\n",
      "└─────┴────────┴─────────┴────────┘\n",
      "\n",
      "┌──────┬─────────────────────────────────────┐\n",
      "│ tool │ t = 0, 0, 0.2; rpy/xyz = 0°, 0°, 0° │\n",
      "└──────┴─────────────────────────────────────┘\n",
      "\n",
      "┌────────┬────────┬───────┬───────┬───────┬────────┬───────┐\n",
      "│   name │ q0     │ q1    │ q2    │ q3    │ q4     │ q5    │\n",
      "├────────┼────────┼───────┼───────┼───────┼────────┼───────┤\n",
      "│ q_HOME │  40.9° │ -111° │ -118° │ -130° │ -51.6° │  136° │\n",
      "└────────┴────────┴───────┴───────┴───────┴────────┴───────┘\n",
      "\n"
     ]
    }
   ],
   "source": [
    "# From roboticstoolbox\n",
    "robotDH = UR5eDH()\n",
    "# กำหนดค่าตำแหน่งของ Tool\n",
    "tool_offset = SE3(0, 0, 0.200)\n",
    "robotDH.tool = tool_offset\n",
    "print(robotDH)"
   ]
  },
  {
   "cell_type": "markdown",
   "metadata": {},
   "source": [
    "## Forward Kinematics\n",
    "หลังจากได้ค่าต่างๆ ของ DH parameters แล้ว สามารถคำนวณค่า Forward Kinematics เพื่อหาท่า (pose) ของ end-effector ได้ดังนี้\n",
    "\n",
    "นิยามเมทริกซ์แปลงระหว่างลิงก์ด้วย Standard DH:\n",
    "   $$\n",
    "   T_i^{\\,i-1} =\n",
    "   \\begin{bmatrix}\n",
    "     \\cos\\theta_i & -\\sin\\theta_i\\,\\cos\\alpha_i & \\sin\\theta_i\\,\\sin\\alpha_i & a_i\\,\\cos\\theta_i \\\\[6pt]\n",
    "     \\sin\\theta_i & \\;\\cos\\theta_i\\,\\cos\\alpha_i\\;\\;\\; & -\\cos\\theta_i\\,\\sin\\alpha_i & a_i\\,\\sin\\theta_i \\\\[6pt]\n",
    "     0            & \\sin\\alpha_i                & \\cos\\alpha_i               & d_i               \\\\[6pt]\n",
    "     0            & 0                           & 0                          & 1\n",
    "   \\end{bmatrix}\n",
    "   $$\n",
    "   - $\\theta_i$  : joint angle ของ joint $i$  \n",
    "   - $d_i$       : link offset  \n",
    "   - $a_i$       : link length  \n",
    "   - $\\alpha_i$  : link twist  \n"
   ]
  },
  {
   "cell_type": "code",
   "execution_count": 53,
   "metadata": {},
   "outputs": [
    {
     "name": "stdout",
     "output_type": "stream",
     "text": [
      "  \u001b[38;5;1m 0.02029 \u001b[0m \u001b[38;5;1m 0.04228 \u001b[0m \u001b[38;5;1m 0.9989  \u001b[0m \u001b[38;5;4m 0.6993  \u001b[0m  \u001b[0m\n",
      "  \u001b[38;5;1m-0.7225  \u001b[0m \u001b[38;5;1m-0.69    \u001b[0m \u001b[38;5;1m 0.04388 \u001b[0m \u001b[38;5;4m 0.1837  \u001b[0m  \u001b[0m\n",
      "  \u001b[38;5;1m 0.6911  \u001b[0m \u001b[38;5;1m-0.7226  \u001b[0m \u001b[38;5;1m 0.01654 \u001b[0m \u001b[38;5;4m 0.1702  \u001b[0m  \u001b[0m\n",
      "  \u001b[38;5;244m 0       \u001b[0m \u001b[38;5;244m 0       \u001b[0m \u001b[38;5;244m 0       \u001b[0m \u001b[38;5;244m 1       \u001b[0m  \u001b[0m\n",
      "\n"
     ]
    }
   ],
   "source": [
    "# use roboticstoolbox to calculate the forward kinematics\n",
    "fk = robotDH.fkine(robotDH.q_HOME)\n",
    "print(fk)\n"
   ]
  },
  {
   "cell_type": "code",
   "execution_count": null,
   "metadata": {},
   "outputs": [
    {
     "name": "stdout",
     "output_type": "stream",
     "text": [
      "Forward kinematics @ q_HOME:\n",
      "   \u001b[38;5;1m 0.02029 \u001b[0m \u001b[38;5;1m 0.04228 \u001b[0m \u001b[38;5;1m 0.9989  \u001b[0m \u001b[38;5;4m 0.6993  \u001b[0m  \u001b[0m\n",
      "  \u001b[38;5;1m-0.7225  \u001b[0m \u001b[38;5;1m-0.69    \u001b[0m \u001b[38;5;1m 0.04388 \u001b[0m \u001b[38;5;4m 0.1837  \u001b[0m  \u001b[0m\n",
      "  \u001b[38;5;1m 0.6911  \u001b[0m \u001b[38;5;1m-0.7226  \u001b[0m \u001b[38;5;1m 0.01654 \u001b[0m \u001b[38;5;4m 0.1702  \u001b[0m  \u001b[0m\n",
      "  \u001b[38;5;244m 0       \u001b[0m \u001b[38;5;244m 0       \u001b[0m \u001b[38;5;244m 0       \u001b[0m \u001b[38;5;244m 1       \u001b[0m  \u001b[0m\n",
      "\n"
     ]
    }
   ],
   "source": [
    "import numpy as np\n",
    "from spatialmath import SE3\n",
    "\n",
    "def forward_kinematics_dh(dh_params, joint_angles):\n",
    "    \"\"\"\n",
    "    Compute the forward kinematics pose of an n-DOF manipulator\n",
    "    using Standard Denavit–Hartenberg parameters.\n",
    "    \n",
    "    Parameters\n",
    "    ----------\n",
    "    dh_params : list of tuples (d_i, a_i, alpha_i)\n",
    "        - d_i     : link offset (m)\n",
    "        - a_i     : link length (m)\n",
    "        - alpha_i : link twist (rad)\n",
    "    joint_angles : array_like of shape (n,)\n",
    "        The joint angles theta_i (rad).\n",
    "    \n",
    "    Returns\n",
    "    -------\n",
    "    SE3\n",
    "        The homogeneous transform of the end-effector in the base frame.\n",
    "    \"\"\"\n",
    "    if len(dh_params) != len(joint_angles):\n",
    "        raise ValueError(\"Number of DH parameter rows must match number of joints\")\n",
    "    \n",
    "    T = SE3()  # identity\n",
    "    for (d, a, alpha), theta in zip(dh_params, joint_angles):\n",
    "        ct, st = np.cos(theta), np.sin(theta)\n",
    "        ca, sa = np.cos(alpha), np.sin(alpha)\n",
    "        A = np.array([\n",
    "            [ ct,   -st*ca,  st*sa,  a*ct ],\n",
    "            [ st,    ct*ca, -ct*sa,  a*st ],\n",
    "            [  0,       sa,     ca,     d  ],\n",
    "            [  0,        0,      0,     1  ]\n",
    "        ])\n",
    "        T = T @ SE3(A)\n",
    "    return T\n",
    "\n",
    "# Numeric DH parameters for UR5e (Standard DH)\n",
    "# (d_i,   a_i,     alpha_i)\n",
    "a = [0, -0.42500, -0.3922, 0, 0, 0]\n",
    "d = [0.1625, 0, 0, 0.1333, 0.0997, 0.0996]\n",
    "alpha = [np.pi / 2, 0, 0, np.pi / 2, -np.pi / 2, 0]\n",
    "dh_params_ur5e = list(zip(d, a, alpha))\n",
    "\n",
    "# Example “home” joint angles (rad)\n",
    "q_home = robotDH.q_HOME\n",
    "\n",
    "# Compute FK\n",
    "T_home = forward_kinematics_dh(dh_params_ur5e, q_home)\n",
    "T_tool = SE3(0, 0, 0.200)\n",
    "T_home = T_home @ T_tool\n",
    "print(\"Forward kinematics:\\n\", T_home)\n"
   ]
  },
  {
   "cell_type": "markdown",
   "metadata": {},
   "source": [
    "## Inverse Kinematics\n",
    "\n",
    "ในส่วนนี้ เราจะนำท่า (pose) ที่ได้จากการคำนวณ Forward Kinematics ของหุ่นยนต์ UR5e มาเป็นเป้าหมายในการแก้สมการ Inverse Kinematics ด้วยวิธีเชิงตัวเลข (Numerical IK) โดยใช้ Levenberg–Marquardt algorithm ผ่านฟังก์ชัน `ikine_LM` ของ `robotDH` จากนั้นนำค่ามุมข้อต่อที่ได้ (`q_IK`) มาเปรียบเทียบกับค่ามุมข้อต่อเริ่มต้น (`q_HOME`) เพื่อดูว่าทั้งสองชุดค่าตรงกันภายในข้อผิดพลาดเชิงตัวเลขหรือไม่\n"
   ]
  },
  {
   "cell_type": "code",
   "execution_count": 47,
   "metadata": {},
   "outputs": [
    {
     "name": "stdout",
     "output_type": "stream",
     "text": [
      "q_HOME: [ 0.71448904 -1.93802991 -2.05205607 -2.27198233 -0.90031845  2.36535263]\n",
      "q_IK  : [ 0.71448904 -1.93802991 -2.05205607 -2.27198233 -0.90031845  2.36535263]\n",
      "Error : [ 0.0000000e+00  0.0000000e+00 -4.4408921e-16  4.4408921e-16\n",
      "  0.0000000e+00  0.0000000e+00]\n",
      "RMSE  : 0.000000 rad\n"
     ]
    }
   ],
   "source": [
    "# “home” joint angles\n",
    "q_home = np.array([\n",
    "    0.7144890427589417,\n",
    "   -1.9380299053587855,\n",
    "   -2.052056074142456,\n",
    "   -2.271982332269186,\n",
    "   -0.9003184477435511,\n",
    "    2.3653526306152344\n",
    "])\n",
    "\n",
    "# The IK solution you just computed\n",
    "ik_solution = robotDH.ikine_LM(\n",
    "    Tep=fk,                   # target pose = fk\n",
    "    q0=q_home,        # start search at q_HOME\n",
    "    joint_limits=True,        # respect qlim\n",
    "    mask=[1,1,1,1,1,1],       # full 6-DOF\n",
    "    ilimit=100,               \n",
    "    slimit=200,\n",
    "    tol=1e-6,\n",
    "    seed=0\n",
    ")\n",
    "q_ik = ik_solution.q\n",
    "\n",
    "\n",
    "print(\"q_HOME:\", q_home)\n",
    "print(\"q_IK  :\", q_ik)\n",
    "\n",
    "# Compute joint-by-joint error\n",
    "error = q_home - q_ik\n",
    "print(\"Error :\", error)\n",
    "\n",
    "# Compute RMSE over all joints\n",
    "rmse = np.sqrt(np.mean(error**2))\n",
    "print(f\"RMSE  : {rmse:.6f} rad\")"
   ]
  },
  {
   "cell_type": "markdown",
   "metadata": {},
   "source": [
    "## Result\n",
    "\n",
    "1. **ความสอดคล้องของมุมข้อต่อ**  \n",
    "   - ค่า `q_IK` ตรงกับ `q_HOME` ทุกองค์ประกอบ โดยความแตกต่างที่วัดได้อยู่ในระดับ $10^{-16}$–$10^{-17}$ เรเดียน ซึ่งเป็นขนาดของข้อผิดพลาดเชิงตัวเลข (machine precision)  \n",
    "   - สรุปได้ว่า Inverse Kinematics (ด้วย Levenberg–Marquardt) สามารถย้อนกลับไปยังค่าข้อต่อเดิมได้อย่างแม่นยำ\n",
    "\n",
    "2. **Error Analysis**  \n",
    "   - ข้อความ Error บางตัวเป็น $\\pm 4.44\\times10^{-16}$ เรเดียน เกิดจากการบวกลบตัวเลขทศนิยมซ้อนกันในการคำนวณเมทริกซ์  \n",
    "   - ค่านี้ย่อมถือว่าเท่ากับศูนย์ในทางปฏิบัติ เพราะต่ำกว่าเกณฑ์ tolerances ทั่วไป (เช่น $10^{-6}$–$10^{-8}$)\n",
    "\n",
    "3. **ค่า RMSE**  \n",
    "   - ท่านได้ RMSE = $2.56\\times10^{-16}$ rad แสดงว่าค่าความคลาดเคลื่อนเฉลี่ยของทั้ง 6 ข้อต่อเกือบเป็นศูนย์  \n",
    "   - แปลว่า forward–inverse loop สมบูรณ์และไม่มีการสูญเสียข้อมูลเชิงเลขที่สำคัญ\n",
    "\n",
    "---\n",
    "\n",
    "**สรุป:**  \n",
    "– ระบบ Forward Kinematics และ Inverse Kinematics ของ UR5e ที่ทดสอบด้วย `ikine_LM` ทำงานถูกต้อง  \n",
    "– ข้อผิดพลาดที่เหลือเป็นเพียง numerical noise ในระดับ machine epsilon  \n",
    "– จึงมั่นใจได้ว่าสามารถใช้คู่ FK–IK นี้ในการวางแผนเส้นทางและคำนวณ motion ของหุ่นยนต์ได้อย่างแม่นยำ  \n"
   ]
  }
 ],
 "metadata": {
  "kernelspec": {
   "display_name": "venv",
   "language": "python",
   "name": "python3"
  },
  "language_info": {
   "codemirror_mode": {
    "name": "ipython",
    "version": 3
   },
   "file_extension": ".py",
   "mimetype": "text/x-python",
   "name": "python",
   "nbconvert_exporter": "python",
   "pygments_lexer": "ipython3",
   "version": "3.11.11"
  }
 },
 "nbformat": 4,
 "nbformat_minor": 2
}
